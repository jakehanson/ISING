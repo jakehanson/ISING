{
 "cells": [
  {
   "cell_type": "markdown",
   "metadata": {},
   "source": [
    "## Bash script to run sim many times"
   ]
  },
  {
   "cell_type": "code",
   "execution_count": null,
   "metadata": {},
   "outputs": [],
   "source": [
    "%%bash\n",
    "\n",
    "clang++ -std=c++11 main.cpp functions.cpp -o run_sim.exe\n",
    "\n",
    "# Loop over lattice sizes\n",
    "for i in {16,32,64,128,256}\n",
    "do\n",
    "# Loop over temperature near critical temp\n",
    "for j in {2.0,2.05,2.1,2.15,2.2,2.25,2.3,2.35}\n",
    "do\n",
    "./run_sim.exe $i $j\n",
    "mv magnetization.txt MAGNETIZATION/n$i.T$j.txt\n",
    "done\n",
    "done\n",
    "\n",
    "echo \"Done.\""
   ]
  },
  {
   "cell_type": "code",
   "execution_count": null,
   "metadata": {
    "collapsed": true
   },
   "outputs": [],
   "source": []
  }
 ],
 "metadata": {
  "kernelspec": {
   "display_name": "Python 2",
   "language": "python",
   "name": "python2"
  },
  "language_info": {
   "codemirror_mode": {
    "name": "ipython",
    "version": 2
   },
   "file_extension": ".py",
   "mimetype": "text/x-python",
   "name": "python",
   "nbconvert_exporter": "python",
   "pygments_lexer": "ipython2",
   "version": "2.7.13"
  }
 },
 "nbformat": 4,
 "nbformat_minor": 1
}
